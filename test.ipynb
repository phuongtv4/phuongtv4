import pandas as pd
df = pd.read_excel('Doanh_so_2020.xlsx')
print(df.head())
